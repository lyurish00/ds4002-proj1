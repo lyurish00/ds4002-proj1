{
 "cells": [
  {
   "cell_type": "code",
   "execution_count": 1,
   "metadata": {},
   "outputs": [],
   "source": [
    "\n",
    "import pandas as pd\n",
    "import scipy.stats as stats\n",
    "from statsmodels.stats.multicomp import pairwise_tukeyhsd\n"
   ]
  },
  {
   "cell_type": "code",
   "execution_count": 4,
   "metadata": {},
   "outputs": [
    {
     "name": "stdout",
     "output_type": "stream",
     "text": [
      "  Holiday Source  content_compound\n",
      "0     MLK    FOX            0.9916\n",
      "1     MLK    FOX           -0.8316\n",
      "2     MLK    FOX            0.6543\n",
      "3     MLK    FOX            0.8745\n",
      "4     MLK    FOX            0.9109\n"
     ]
    }
   ],
   "source": [
    "# Load your dataset\n",
    "\n",
    "df = pd.read_csv(\"vader.csv\", usecols=[\"Holiday\", \"Source\", \"content_compound\"])\n",
    "df = df.dropna()\n",
    "print(df.head())"
   ]
  },
  {
   "cell_type": "code",
   "execution_count": 9,
   "metadata": {},
   "outputs": [],
   "source": [
    "def run_anova_for_holiday(holiday_name, df):\n",
    "    print(f\"\\nRunning ANOVA for {holiday_name}...\\n\")\n",
    "    \n",
    "    # Filter data for the given holiday\n",
    "    holiday_df = df[df[\"Holiday\"] == holiday_name]\n",
    "    print(holiday_df)\n",
    "    \n",
    "    # Ensure at least 2 sources exist\n",
    "    sources = holiday_df[\"Source\"].unique()\n",
    "    if len(sources) < 2:\n",
    "        print(f\"Not enough sources for {holiday_name} ANOVA.\")\n",
    "        return\n",
    "    print(sources)\n",
    "    \n",
    "    # Run ANOVA\n",
    "    f_stat, p_anova = stats.f_oneway(\n",
    "        *[holiday_df[holiday_df[\"Source\"] == source][\"content_compound\"] for source in sources]\n",
    "    )\n",
    "    print(f\"ANOVA F-statistic: {f_stat:.4f}, p-value: {p_anova:.4f}\")\n",
    "\n",
    "\n",
    "\n"
   ]
  },
  {
   "cell_type": "code",
   "execution_count": 10,
   "metadata": {},
   "outputs": [
    {
     "name": "stdout",
     "output_type": "stream",
     "text": [
      "\n",
      "Running ANOVA for MLK...\n",
      "\n",
      "   Holiday Source  content_compound\n",
      "0      MLK    FOX            0.9916\n",
      "1      MLK    FOX           -0.8316\n",
      "2      MLK    FOX            0.6543\n",
      "3      MLK    FOX            0.8745\n",
      "4      MLK    FOX            0.9109\n",
      "5      MLK    FOX            0.5859\n",
      "6      MLK    FOX            0.9827\n",
      "7      MLK    FOX           -0.3532\n",
      "8      MLK    FOX            0.9955\n",
      "9      MLK     AP            0.9618\n",
      "10     MLK     AP           -0.9713\n",
      "11     MLK     AP            0.8829\n",
      "12     MLK     AP            0.9785\n",
      "13     MLK     AP           -0.9884\n",
      "14     MLK     AP            0.9879\n",
      "15     MLK     AP           -0.9958\n",
      "16     MLK     AP            0.8842\n",
      "17     MLK     AP           -0.4782\n",
      "18     MLK    CNN           -0.2071\n",
      "19     MLK    CNN            0.9975\n",
      "20     MLK    CNN            0.9912\n",
      "21     MLK    CNN            0.9997\n",
      "22     MLK    CNN            0.9804\n",
      "23     MLK    CNN            0.9218\n",
      "24     MLK    CNN            0.9981\n",
      "25     MLK    CNN            0.8555\n",
      "26     MLK    CNN            0.9876\n",
      "85     MLK    WSJ            0.9972\n",
      "86     MLK    WSJ            0.9865\n",
      "87     MLK    WSJ            0.9153\n",
      "88     MLK    WSJ           -0.9922\n",
      "89     MLK    WSJ            0.9911\n",
      "90     MLK    WSJ           -0.9984\n",
      "91     MLK    NYT           -0.9404\n",
      "92     MLK    NYT           -0.9755\n",
      "93     MLK    NYT            0.9941\n",
      "94     MLK    NYT           -0.9934\n",
      "95     MLK    NYT            0.8527\n",
      "96     MLK    NYT            0.9160\n",
      "97     MLK    NYT            0.9534\n",
      "98     MLK    NYT            0.9972\n",
      "99     MLK    NYT            0.6391\n",
      "['FOX' 'AP' 'CNN' 'WSJ' 'NYT']\n",
      "ANOVA F-statistic: 1.0026, p-value: 0.4186\n"
     ]
    }
   ],
   "source": [
    "run_anova_for_holiday(\"MLK\", df)\n"
   ]
  },
  {
   "cell_type": "code",
   "execution_count": 8,
   "metadata": {},
   "outputs": [
    {
     "name": "stdout",
     "output_type": "stream",
     "text": [
      "\n",
      "Running ANOVA for MLK...\n",
      "\n",
      "ANOVA F-statistic: 1.0026, p-value: 0.4186\n",
      "\n",
      "Running ANOVA for July4th...\n",
      "\n",
      "ANOVA F-statistic: 1.4087, p-value: 0.2444\n",
      "\n",
      "Running ANOVA for Veterans...\n",
      "\n",
      "ANOVA F-statistic: 1.3622, p-value: 0.2625\n"
     ]
    }
   ],
   "source": [
    "# Run ANOVA separately for MLK Day and July 4th\n",
    "run_anova_for_holiday(\"MLK\", df)\n",
    "run_anova_for_holiday(\"July4th\", df)\n",
    "run_anova_for_holiday(\"Veterans\", df)\n"
   ]
  }
 ],
 "metadata": {
  "kernelspec": {
   "display_name": "Python 3",
   "language": "python",
   "name": "python3"
  },
  "language_info": {
   "codemirror_mode": {
    "name": "ipython",
    "version": 3
   },
   "file_extension": ".py",
   "mimetype": "text/x-python",
   "name": "python",
   "nbconvert_exporter": "python",
   "pygments_lexer": "ipython3",
   "version": "3.11.3"
  }
 },
 "nbformat": 4,
 "nbformat_minor": 2
}
